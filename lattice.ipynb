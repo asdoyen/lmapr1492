{
 "cells": [
  {
   "cell_type": "code",
   "execution_count": 2,
   "metadata": {},
   "outputs": [
    {
     "data": {
      "text/markdown": [
       "**Coordonnées des vecteurs du réseau direct**"
      ],
      "text/plain": [
       "<IPython.core.display.Markdown object>"
      ]
     },
     "metadata": {},
     "output_type": "display_data"
    },
    {
     "name": "stdout",
     "output_type": "stream",
     "text": [
      "a : [4.17763364e+00 9.17730000e-04 7.02012415e+00]\n",
      "b : [1.93150513 3.70431047 7.02012415]\n",
      "c : [1.51313000e-03 9.17720000e-04 8.16913496e+00]\n",
      "\n",
      "\n"
     ]
    },
    {
     "data": {
      "text/markdown": [
       "**Coordonnées des vecteurs du réseau réciproque**"
      ],
      "text/plain": [
       "<IPython.core.display.Markdown object>"
      ]
     },
     "metadata": {},
     "output_type": "display_data"
    },
    {
     "name": "stdout",
     "output_type": "stream",
     "text": [
      "Les coordonnées du réseau réciproque peuvent être calculées de deux façons différentes.\n",
      "Calcul à partir du réseau direct et des formules vues au cours :\n",
      "a* : [ 1.50449833e+00 -7.84115788e-01 -1.90583559e-04]\n",
      "b* : [-5.24407248e-05  1.69657067e+00 -1.90582907e-04]\n",
      "c* : [-1.29284153 -0.78411565  0.76946472]\n",
      "\n",
      "\n",
      "Calcul à partir de la fonction python :\n",
      "a* : [ 1.50449833e+00 -7.84115788e-01 -1.90583559e-04]\n",
      "b* : [-5.24407248e-05  1.69657067e+00 -1.90582907e-04]\n",
      "c* : [-1.29284153 -0.78411565  0.76946472]\n",
      "\n",
      "\n",
      "On obtient bien les mêmes vecteurs par les deux méthodes.\n",
      "\n",
      "\n"
     ]
    },
    {
     "data": {
      "text/markdown": [
       "**Maille**"
      ],
      "text/plain": [
       "<IPython.core.display.Markdown object>"
      ]
     },
     "metadata": {},
     "output_type": "display_data"
    },
    {
     "name": "stdout",
     "output_type": "stream",
     "text": [
      "rhombohedral\n",
      "\n",
      "\n"
     ]
    },
    {
     "data": {
      "text/markdown": [
       "**Système cristallin**"
      ],
      "text/plain": [
       "<IPython.core.display.Markdown object>"
      ]
     },
     "metadata": {},
     "output_type": "display_data"
    },
    {
     "name": "stdout",
     "output_type": "stream",
     "text": [
      "trigonal\n",
      "\n",
      "\n"
     ]
    },
    {
     "data": {
      "text/markdown": [
       "**Groupe ponctuel**"
      ],
      "text/plain": [
       "<IPython.core.display.Markdown object>"
      ]
     },
     "metadata": {},
     "output_type": "display_data"
    },
    {
     "name": "stdout",
     "output_type": "stream",
     "text": [
      "-3m\n"
     ]
    }
   ],
   "source": [
    "from pymatgen.ext.matproj import MPRester\n",
    "from pymatgen.io.cif import CifWriter\n",
    "from pymatgen.symmetry.analyzer import SpacegroupAnalyzer\n",
    "import numpy as np\n",
    "from IPython.display import Markdown, display\n",
    "def printmd(string):\n",
    "    display(Markdown(string))\n",
    "with MPRester(\"AzZfK75KWoi3UDJbKM3u\") as m:\n",
    "        structure = m.get_structure_by_material_id(\"mp-568588\")\n",
    "#print(structure)\n",
    "P = SpacegroupAnalyzer(structure)\n",
    "\n",
    "#obtention des coordonnées des vecteurs de base du réseau direct\n",
    "reseau = structure.lattice\n",
    "matrice = reseau.matrix\n",
    "printmd(\"**Coordonnées des vecteurs du réseau direct**\")\n",
    "print(\"a :\", matrice[0][:])\n",
    "print(\"b :\", matrice[1][:])\n",
    "print(\"c :\", matrice[2][:])\n",
    "print('\\n')\n",
    "\n",
    "#obtention des coordonnées des vecteurs de base du réseau réciproque\n",
    "\n",
    "printmd(\"**Coordonnées des vecteurs du réseau réciproque**\")\n",
    "print(\"Les coordonnées du réseau réciproque peuvent être calculées de deux façons différentes.\")\n",
    "print(\"Calcul à partir du réseau direct et des formules vues au cours :\")\n",
    "pvect = np.dot(matrice[0][:],np.cross(matrice[1][:],matrice[2][:]))\n",
    "print(\"a* :\", (2*np.pi/pvect)*np.cross(matrice[1][:],matrice[2][:]))\n",
    "print(\"b* :\", (2*np.pi/pvect)*np.cross(matrice[2][:],matrice[0][:]))\n",
    "print(\"c* :\", (2*np.pi/pvect)*np.cross(matrice[0][:],matrice[1][:]))\n",
    "print('\\n')\n",
    "\n",
    "print(\"Calcul à partir de la fonction python :\")\n",
    "reseaureciproque = structure.lattice.reciprocal_lattice\n",
    "matricerec = reseaureciproque.matrix\n",
    "print(\"a* :\", matricerec[0][:])\n",
    "print(\"b* :\", matricerec[1][:])\n",
    "print(\"c* :\", matricerec[2][:])\n",
    "print('\\n')\n",
    "\n",
    "print(\"On obtient bien les mêmes vecteurs par les deux méthodes.\")\n",
    "print('\\n')\n",
    "\n",
    "#obtention de la maille\n",
    "printmd(\"**Maille**\")\n",
    "maille = P.get_lattice_type()\n",
    "print(maille)\n",
    "print('\\n')\n",
    "\n",
    "#obtention du système cristallin\n",
    "printmd(\"**Système cristallin**\")\n",
    "sc = P.get_crystal_system()\n",
    "print(sc)\n",
    "print('\\n')\n",
    "\n",
    "#obtention du groupe ponctuel\n",
    "printmd(\"**Groupe ponctuel**\")\n",
    "gp = P.get_point_group_symbol()\n",
    "print(gp)"
   ]
  },
  {
   "cell_type": "code",
   "execution_count": null,
   "metadata": {},
   "outputs": [],
   "source": []
  }
 ],
 "metadata": {
  "kernelspec": {
   "display_name": "Python 3",
   "language": "python",
   "name": "python3"
  },
  "language_info": {
   "codemirror_mode": {
    "name": "ipython",
    "version": 3
   },
   "file_extension": ".py",
   "mimetype": "text/x-python",
   "name": "python",
   "nbconvert_exporter": "python",
   "pygments_lexer": "ipython3",
   "version": "3.6.8"
  }
 },
 "nbformat": 4,
 "nbformat_minor": 2
}
