{
 "cells": [
  {
   "cell_type": "code",
   "execution_count": 7,
   "metadata": {},
   "outputs": [
    {
     "name": "stdout",
     "output_type": "stream",
     "text": [
      "Full Formula (Nd1 Tl1 Se2)\n",
      "Reduced Formula: NdTlSe2\n",
      "abc   :   8.169135   8.169135   8.169135\n",
      "angles:  30.746013  30.746009  30.746011\n",
      "Sites (4)\n",
      "  #  SP           a         b         c    magmom\n",
      "---  ----  --------  --------  --------  --------\n",
      "  0  Nd    0         0         0                0\n",
      "  1  Tl    0.5       0.5       0.5              0\n",
      "  2  Se    0.736662  0.736662  0.736662         0\n",
      "  3  Se    0.263338  0.263338  0.263338         0\n",
      "Coordonnées des vecteurs du réseau direct :\n",
      "4.177634 0.000918 7.020124\n",
      "1.931505 3.704310 7.020124\n",
      "0.001513 0.000918 8.169135\n",
      "Coordonnées des vecteurs du réseau réciproque :\n",
      "1.504498 -0.784116 -0.000191\n",
      "-0.000052 1.696571 -0.000191\n",
      "-1.292842 -0.784116 0.769465\n",
      "Maille :\n",
      "rhombohedral\n",
      "Système cristallin :\n",
      "trigonal\n",
      "Groupe ponctuel :\n",
      "-3m\n"
     ]
    }
   ],
   "source": [
    "from pymatgen.ext.matproj import MPRester\n",
    "from pymatgen.io.cif import CifWriter\n",
    "from pymatgen.symmetry.analyzer import SpacegroupAnalyzer\n",
    "with MPRester(\"AzZfK75KWoi3UDJbKM3u\") as m:\n",
    "        structure = m.get_structure_by_material_id(\"mp-568588\")\n",
    "        w = CifWriter(structure)\n",
    "        w.write_file('NdTlSe2_mp-568588_symmetrized.cif')\n",
    "print(structure)\n",
    "P = SpacegroupAnalyzer(structure)\n",
    "\n",
    "#obtention des coordonnées des vecteurs de base du réseau direct\n",
    "reseau = structure.lattice\n",
    "print(\"Coordonnées des vecteurs du réseau direct :\")\n",
    "print(reseau)\n",
    "\n",
    "#obtention des coordonnées des vecteurs de base du réseau réciproque\n",
    "reseaureciproque = structure.lattice.reciprocal_lattice\n",
    "print(\"Coordonnées des vecteurs du réseau réciproque :\")\n",
    "print(reseaureciproque)\n",
    "\n",
    "#obtention de la maille\n",
    "maille = P.get_lattice_type()\n",
    "print(\"Maille :\")\n",
    "print(maille)\n",
    "\n",
    "#obtention du système cristallin\n",
    "sc = P.get_crystal_system()\n",
    "print(\"Système cristallin :\")\n",
    "print(sc)\n",
    "\n",
    "#obtention du groupe ponctuel\n",
    "gp = P.get_point_group_symbol()\n",
    "print(\"Groupe ponctuel :\")\n",
    "print(gp)"
   ]
  }
 ],
 "metadata": {
  "kernelspec": {
   "display_name": "Python 3",
   "language": "python",
   "name": "python3"
  },
  "language_info": {
   "codemirror_mode": {
    "name": "ipython",
    "version": 3
   },
   "file_extension": ".py",
   "mimetype": "text/x-python",
   "name": "python",
   "nbconvert_exporter": "python",
   "pygments_lexer": "ipython3",
   "version": "3.6.8"
  }
 },
 "nbformat": 4,
 "nbformat_minor": 2
}
