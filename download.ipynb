{
 "cells": [
  {
   "cell_type": "code",
   "execution_count": 7,
   "metadata": {},
   "outputs": [
    {
     "name": "stdout",
     "output_type": "stream",
     "text": [
      "Full Formula (Nd1 Tl1 Se2)\n",
      "Reduced Formula: NdTlSe2\n",
      "abc   :   8.169135   8.169135   8.169135\n",
      "angles:  30.746013  30.746009  30.746011\n",
      "Sites (4)\n",
      "  #  SP           a         b         c    magmom\n",
      "---  ----  --------  --------  --------  --------\n",
      "  0  Nd    0         0         0                0\n",
      "  1  Tl    0.5       0.5       0.5              0\n",
      "  2  Se    0.736662  0.736662  0.736662         0\n",
      "  3  Se    0.263338  0.263338  0.263338         0\n"
     ]
    }
   ],
   "source": [
    "from pymatgen.ext.matproj import MPRester\n",
    "with MPRester(\"AzZfK75KWoi3UDJbKM3u\") as m:\n",
    "\n",
    "    # Structure for material id\n",
    "    structure = m.get_structure_by_material_id(\"mp-568588\")\n",
    "    print(structure)\n",
    "    \n",
    "    # Dos for material id\n",
    "    dos = m.get_dos_by_material_id(\"mp-568588\")\n",
    "\n",
    "    # Bandstructure for material id\n",
    "    bandstructure = m.get_bandstructure_by_material_id(\"mp-568588\")"
   ]
  }
 ],
 "metadata": {
  "kernelspec": {
   "display_name": "Python 3",
   "language": "python",
   "name": "python3"
  },
  "language_info": {
   "codemirror_mode": {
    "name": "ipython",
    "version": 3
   },
   "file_extension": ".py",
   "mimetype": "text/x-python",
   "name": "python",
   "nbconvert_exporter": "python",
   "pygments_lexer": "ipython3",
   "version": "3.6.8"
  }
 },
 "nbformat": 4,
 "nbformat_minor": 2
}
